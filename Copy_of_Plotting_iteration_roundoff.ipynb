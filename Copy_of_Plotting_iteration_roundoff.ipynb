{
  "nbformat": 4,
  "nbformat_minor": 0,
  "metadata": {
    "colab": {
      "provenance": [],
      "include_colab_link": true
    },
    "kernelspec": {
      "name": "python3",
      "display_name": "Python 3"
    }
  },
  "cells": [
    {
      "cell_type": "markdown",
      "metadata": {
        "id": "view-in-github",
        "colab_type": "text"
      },
      "source": [
        "<a href=\"https://colab.research.google.com/github/seventhtuesday/CS215/blob/main/Copy_of_Plotting_iteration_roundoff.ipynb\" target=\"_parent\"><img src=\"https://colab.research.google.com/assets/colab-badge.svg\" alt=\"Open In Colab\"/></a>"
      ]
    },
    {
      "cell_type": "markdown",
      "metadata": {
        "id": "qEJhOZ51lG2W"
      },
      "source": [
        "#**Lab 3 - Plotting, iteration, and roundoff error**"
      ]
    },
    {
      "cell_type": "markdown",
      "metadata": {
        "id": "y0oQ0MWSlwfG"
      },
      "source": [
        "Enter your code in the spaces provided. Do not change any of the variable names or function names that are already provided for you. In places where we specify the name of the return value, make sure that your code produces the a value with the correct name."
      ]
    },
    {
      "cell_type": "code",
      "metadata": {
        "id": "nHpSdb65cG_9"
      },
      "source": [
        "# Do not edit this cell.\n",
        "\n",
        "LabID=\"Lab3\"\n",
        "\n",
        "try:\n",
        "  from graderHelp import ISGRADEPLOT\n",
        "except ImportError:\n",
        "  ISGRADEPLOT = True"
      ],
      "execution_count": 72,
      "outputs": []
    },
    {
      "cell_type": "markdown",
      "metadata": {
        "id": "CGHZ14CWl0sS"
      },
      "source": [
        "**Enter your BYU NetID**"
      ]
    },
    {
      "cell_type": "code",
      "metadata": {
        "id": "knzMO488lOPx"
      },
      "source": [
        "# Enter your first and last names in between the quotation marks.\n",
        "\n",
        "first_name=\"Trent\"\n",
        "\n",
        "last_name=\"Ence\"\n",
        "\n",
        "# Enter your Math 215 section number in between the quotation marks.\n",
        "\n",
        "section_number=\"01\"\n",
        "\n",
        "# Enter your BYU NetID in between the quotation marks.  NOT YOUR BYU ID NUMBER!\n",
        "\n",
        "BYUNetID=\"trence13\""
      ],
      "execution_count": 73,
      "outputs": []
    },
    {
      "cell_type": "markdown",
      "metadata": {
        "id": "lqw1plL5q5Q8"
      },
      "source": [
        "**Import NumPy and PyPlot**"
      ]
    },
    {
      "cell_type": "code",
      "metadata": {
        "id": "V02SfSEWq4hR"
      },
      "source": [
        "import numpy as np\n",
        "from matplotlib import pyplot as plt"
      ],
      "execution_count": 74,
      "outputs": []
    },
    {
      "cell_type": "markdown",
      "metadata": {
        "id": "8TbgwXGZmETs"
      },
      "source": [
        "**Problem 1**"
      ]
    },
    {
      "cell_type": "code",
      "metadata": {
        "id": "dzudpi4_l8-8"
      },
      "source": [
        "# @title\n",
        "# Plot both functions from Problem 1 here.  Put all of your code to create the plot inside the function below.\n",
        "\n",
        "def create_plots():\n",
        "  x = np.linspace(-2*np.pi, 2*np.pi, 50)\n",
        "  y1 = np.sin(x)\n",
        "  plt.plot(x, y1)\n",
        "  y2 = np.cos(x)\n",
        "  plt.plot(x, y2)\n",
        "  plt.show()\n",
        "  return None"
      ],
      "execution_count": 75,
      "outputs": []
    },
    {
      "cell_type": "markdown",
      "metadata": {
        "id": "5KJ4X0qgmW52"
      },
      "source": [
        "**Problem 2**"
      ]
    },
    {
      "cell_type": "code",
      "metadata": {
        "id": "cUMtfns0mWCc"
      },
      "source": [
        "# Create the scatter plot from Problem 2 here.  Put all of your code to create the plot inside the function below.\n",
        "\n",
        "def create_scatter_plot():\n",
        "  x = np.random.normal(scale=1.5, size=500)\n",
        "  y = np.random.normal(scale=1,size=500)\n",
        "\n",
        "  plt.plot(x,y,'x',markersize=5,alpha=1)\n",
        "  plt.show()\n",
        "  return None"
      ],
      "execution_count": 76,
      "outputs": []
    },
    {
      "cell_type": "markdown",
      "metadata": {
        "id": "3gFdGK5_m_iw"
      },
      "source": [
        "**Problem 3**"
      ]
    },
    {
      "cell_type": "code",
      "metadata": {
        "id": "dEt45tv6m6l2"
      },
      "source": [
        "def fact(n):\n",
        "  if n==0:\n",
        "    return 1  # Place the first part of your code here.\n",
        "  else:\n",
        "    return n * fact(n-1)  # Place the remaining part of your code here."
      ],
      "execution_count": 77,
      "outputs": []
    },
    {
      "cell_type": "markdown",
      "metadata": {
        "id": "GD3rR1rmngih"
      },
      "source": [
        "**Problem 4**"
      ]
    },
    {
      "cell_type": "code",
      "metadata": {
        "id": "Wun2LuScnf86",
        "colab": {
          "base_uri": "https://localhost:8080/"
        },
        "outputId": "20dfe6d3-6f14-4f9b-bc51-7b31c88fd8cd"
      },
      "source": [
        "def f(x):\n",
        "  return x**2 + x - 5\n",
        "\n",
        "a = 0\n",
        "b = 2\n",
        "n = 42\n",
        "\n",
        "for i in range(n):\n",
        "   d = (a + b)/2\n",
        "   if f(d) < 0:\n",
        "      a = d\n",
        "   else:\n",
        "      b = d\n",
        "print(d)\n",
        "root = d # Replace the value -1 with your approximation to the root of f(x), correct to 12 decimal places."
      ],
      "execution_count": 78,
      "outputs": [
        {
          "output_type": "stream",
          "name": "stdout",
          "text": [
            "1.7912878474776335\n"
          ]
        }
      ]
    },
    {
      "cell_type": "markdown",
      "metadata": {
        "id": "MEdhRzaVnyEk"
      },
      "source": [
        "**Problem 5**"
      ]
    },
    {
      "cell_type": "code",
      "metadata": {
        "id": "siicGRDxJvA-"
      },
      "source": [
        "def g(x):\n",
        "  return x**4 - 2*x**3 - 17*x**2 + 4*x + 30 # Put your return value, i.e. the value of g(x), here.\n",
        "\n",
        "def g_prime(x):\n",
        "  return 4*x**3 - 6*x**2 - 34*x + 4 # Put your return value, i.e. the value of the derivative g'(x), here."
      ],
      "execution_count": 79,
      "outputs": []
    },
    {
      "cell_type": "markdown",
      "metadata": {
        "id": "zcQWmdVMJvMH"
      },
      "source": [
        "**Problem 6**"
      ]
    },
    {
      "cell_type": "code",
      "metadata": {
        "id": "Jwf7ivX1Jvbr",
        "colab": {
          "base_uri": "https://localhost:8080/"
        },
        "outputId": "18cec3e0-1cd4-4933-c845-df1b2df137cf"
      },
      "source": [
        "def newtons_method(starting_guess,n):\n",
        "  if(n == 0):\n",
        "    return starting_guess\n",
        "  else:\n",
        "    return newtons_method(starting_guess - (g(starting_guess)/g_prime(starting_guess)), n-1)  # Put your return value here.\n",
        "print(newtons_method(10,5))"
      ],
      "execution_count": 80,
      "outputs": [
        {
          "output_type": "stream",
          "name": "stdout",
          "text": [
            "5.0084530919691765\n"
          ]
        }
      ]
    },
    {
      "cell_type": "markdown",
      "metadata": {
        "id": "6NgaI3MoJvtm"
      },
      "source": [
        "**Problem 7**"
      ]
    },
    {
      "cell_type": "code",
      "metadata": {
        "id": "-alFFjs1nqIn"
      },
      "source": [
        "def integration(m):\n",
        "  E = 1 - (1/np.exp(1))\n",
        "  for j in range(m):\n",
        "    E = 1 - (j+1) * E\n",
        "  return E  # Put your return value here."
      ],
      "execution_count": 81,
      "outputs": []
    },
    {
      "cell_type": "markdown",
      "metadata": {
        "id": "2CMDJOJjnR4I"
      },
      "source": [
        "**STOP!  BEFORE YOU SUBMIT THIS LAB:**  Go to the \"Runtime\" menu at the top of this page, and select \"Restart and run all\".  If any of the cells produce error messages, you will either need to fix the error(s) or delete the code that is causing the error(s).  Then use \"Restart and run all\" again to see if there are any new errors.  Repeat this until no new error messages show up.   "
      ]
    },
    {
      "cell_type": "markdown",
      "metadata": {
        "id": "dNABy5d3oH97"
      },
      "source": [
        "**You are not ready to submit until you are able to select \"Restart and run all\" without any new error messages showing up.  Your code will not be able to be graded if there are any error messages.**"
      ]
    },
    {
      "cell_type": "markdown",
      "metadata": {
        "id": "u8tKJKW18yyu"
      },
      "source": [
        "To submit your lab for grading you must first download it to your compute as .py file. In the \"File\" menu select \"Download .py\". The resulting file can then be uploaded to [gradescope.com](https://gradescope.com) for grading."
      ]
    }
  ]
}