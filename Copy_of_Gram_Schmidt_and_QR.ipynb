{
  "nbformat": 4,
  "nbformat_minor": 0,
  "metadata": {
    "colab": {
      "provenance": [],
      "include_colab_link": true
    },
    "kernelspec": {
      "name": "python3",
      "display_name": "Python 3"
    }
  },
  "cells": [
    {
      "cell_type": "markdown",
      "metadata": {
        "id": "view-in-github",
        "colab_type": "text"
      },
      "source": [
        "<a href=\"https://colab.research.google.com/github/seventhtuesday/CS215/blob/main/Copy_of_Gram_Schmidt_and_QR.ipynb\" target=\"_parent\"><img src=\"https://colab.research.google.com/assets/colab-badge.svg\" alt=\"Open In Colab\"/></a>"
      ]
    },
    {
      "cell_type": "markdown",
      "metadata": {
        "id": "qEJhOZ51lG2W"
      },
      "source": [
        "#**Lab 12 - Gram-Schmidt and QR decompositions**"
      ]
    },
    {
      "cell_type": "markdown",
      "metadata": {
        "id": "y0oQ0MWSlwfG"
      },
      "source": [
        "Enter your code in the spaces provided. Do not change any of the variable names or function names that are already provided for you. In places where we specify the name of the return value, make sure that your code produces the a value with the correct name."
      ]
    },
    {
      "cell_type": "code",
      "metadata": {
        "id": "TpV7g0HFP1Pi"
      },
      "source": [
        "# Do not edit this cell.\n",
        "\n",
        "LabID=\"Lab12\"\n",
        "\n",
        "try:\n",
        "  from graderHelp import ISGRADEPLOT\n",
        "except ImportError:\n",
        "  ISGRADEPLOT = True"
      ],
      "execution_count": 1,
      "outputs": []
    },
    {
      "cell_type": "markdown",
      "metadata": {
        "id": "CGHZ14CWl0sS"
      },
      "source": [
        "**Enter your name, section number, and BYU NetID**"
      ]
    },
    {
      "cell_type": "code",
      "metadata": {
        "id": "knzMO488lOPx"
      },
      "source": [
        "# Enter your first and last names in between the quotation marks.\n",
        "\n",
        "first_name=\"Trent\"\n",
        "\n",
        "last_name=\"Ence\"\n",
        "\n",
        "# Enter your Math 215 section number in between the quotation marks.\n",
        "\n",
        "section_number=\"001\"\n",
        "\n",
        "# Enter your BYU NetID in between the quotation marks.  NOT YOUR BYU ID NUMBER!\n",
        "\n",
        "BYUNetID=\"trence13\""
      ],
      "execution_count": 2,
      "outputs": []
    },
    {
      "cell_type": "markdown",
      "metadata": {
        "id": "ADLuopPUdGk8"
      },
      "source": [
        "**Import NumPy**"
      ]
    },
    {
      "cell_type": "code",
      "metadata": {
        "id": "3-H-gsfndJZw"
      },
      "source": [
        "import numpy as np"
      ],
      "execution_count": 3,
      "outputs": []
    },
    {
      "cell_type": "markdown",
      "metadata": {
        "id": "vgeFcnsIQDyY"
      },
      "source": [
        "**Problem 1**"
      ]
    },
    {
      "cell_type": "code",
      "metadata": {
        "id": "fUYo4iQUQWEf"
      },
      "source": [
        "#This function reads in two vectors and outputs a boolean variable describing whether the two vectors are orthogonal.\n",
        "\n",
        "def orthogonal_check(a,b):\n",
        "  result = np.abs(np.dot(a,b))\n",
        "  return result < 1e-12"
      ],
      "execution_count": 4,
      "outputs": []
    },
    {
      "cell_type": "markdown",
      "metadata": {
        "id": "ZKYk7BrMy758"
      },
      "source": [
        "Check your function:"
      ]
    },
    {
      "cell_type": "code",
      "metadata": {
        "id": "MRzwuW9Dy6ad",
        "colab": {
          "base_uri": "https://localhost:8080/"
        },
        "outputId": "a18b66e8-aa3d-4a82-e55f-bf211c9e1e87"
      },
      "source": [
        "a=np.array([1,1,1,1])\n",
        "b=np.array([1,1,1,2])\n",
        "\n",
        "orthogonal_check(a,b)"
      ],
      "execution_count": 6,
      "outputs": [
        {
          "output_type": "execute_result",
          "data": {
            "text/plain": [
              "False"
            ]
          },
          "metadata": {},
          "execution_count": 6
        }
      ]
    },
    {
      "cell_type": "markdown",
      "metadata": {
        "id": "aTbaNURM0Ets"
      },
      "source": [
        "**Problem 2**"
      ]
    },
    {
      "cell_type": "code",
      "metadata": {
        "id": "h7s6SX4K0KxE"
      },
      "source": [
        "# This function reads in a list of vectors and checks whether they form an orthogonal set. Orthcheck should be a Boolean value (True or False).\n",
        "\n",
        "def orth_set_check(vect_set):\n",
        "  for n in range(len(vect_set)):\n",
        "    for m in range(n+1, len(vect_set)):\n",
        "      if not (orthogonal_check(vect_set[n], vect_set[m])):\n",
        "        return False\n",
        "  return True"
      ],
      "execution_count": 12,
      "outputs": []
    },
    {
      "cell_type": "markdown",
      "metadata": {
        "id": "DvjRZV6w62em"
      },
      "source": [
        "Check your function:"
      ]
    },
    {
      "cell_type": "code",
      "metadata": {
        "id": "mvLWfrKE1HvE",
        "colab": {
          "base_uri": "https://localhost:8080/"
        },
        "outputId": "4b011a8d-bb84-46ae-9723-2eabfd862a6f"
      },
      "source": [
        "p=[np.array([1,-1,0]),np.array([1,1,1]),np.array([0,1,-1])]\n",
        "q=[np.array([1,0,0]),np.array([0,1,0]),np.array([0,0,1])]\n",
        "\n",
        "orth_set_check(q)"
      ],
      "execution_count": 15,
      "outputs": [
        {
          "output_type": "execute_result",
          "data": {
            "text/plain": [
              "True"
            ]
          },
          "metadata": {},
          "execution_count": 15
        }
      ]
    },
    {
      "cell_type": "markdown",
      "metadata": {
        "id": "DLGg5QnP65CY"
      },
      "source": [
        "**Problem 3**"
      ]
    },
    {
      "cell_type": "code",
      "metadata": {
        "id": "KBQllYLo67KJ"
      },
      "source": [
        "# This function accepts a vector and returns a unit vector in the same direction.\n",
        "\n",
        "def normalize(v):\n",
        "  mag = np.linalg.norm(v)\n",
        "  return v / mag"
      ],
      "execution_count": 16,
      "outputs": []
    },
    {
      "cell_type": "markdown",
      "metadata": {
        "id": "pXDDksm484aQ"
      },
      "source": [
        "Check your function:"
      ]
    },
    {
      "cell_type": "code",
      "metadata": {
        "id": "5okyzOLD85W4",
        "colab": {
          "base_uri": "https://localhost:8080/"
        },
        "outputId": "8b4290ec-fc68-4bd2-85a6-65e8511dde6d"
      },
      "source": [
        "normalize(np.array([1,1,1,1]))"
      ],
      "execution_count": 17,
      "outputs": [
        {
          "output_type": "execute_result",
          "data": {
            "text/plain": [
              "array([0.5, 0.5, 0.5, 0.5])"
            ]
          },
          "metadata": {},
          "execution_count": 17
        }
      ]
    },
    {
      "cell_type": "markdown",
      "metadata": {
        "id": "up1FMuuS9THe"
      },
      "source": [
        "**Problem 4**"
      ]
    },
    {
      "cell_type": "code",
      "metadata": {
        "id": "RHrSbeAw9Xc2"
      },
      "source": [
        "# This function accepts two vectors a and b and returns the projection of a onto b.\n",
        "\n",
        "def proj(a,b):\n",
        "  return (np.dot(b,a) / np.dot(b,b)) * b"
      ],
      "execution_count": 18,
      "outputs": []
    },
    {
      "cell_type": "markdown",
      "metadata": {
        "id": "M_f8EKW7Eqbf"
      },
      "source": [
        "Check your function:"
      ]
    },
    {
      "cell_type": "code",
      "metadata": {
        "id": "CXaKo4nBErNf",
        "colab": {
          "base_uri": "https://localhost:8080/"
        },
        "outputId": "1125a738-9a2c-4746-e713-d9a7446e3eac"
      },
      "source": [
        "a=np.array([1,4,1])\n",
        "b=np.array([1,1,1])\n",
        "proj(a,b)"
      ],
      "execution_count": 19,
      "outputs": [
        {
          "output_type": "execute_result",
          "data": {
            "text/plain": [
              "array([2., 2., 2.])"
            ]
          },
          "metadata": {},
          "execution_count": 19
        }
      ]
    },
    {
      "cell_type": "markdown",
      "metadata": {
        "id": "ZL0-CTRuIDd0"
      },
      "source": [
        "**Problem 5**"
      ]
    },
    {
      "cell_type": "code",
      "metadata": {
        "id": "uXBaQzSjIGM8"
      },
      "source": [
        "# This function accepts a list of linearly independent vectors V, and produces a new list X of orthonormal vectors which span the same space as a the vector of V.\n",
        "\n",
        "def gram_schmidt(V):\n",
        "  X=V.copy()\n",
        "  n=len(V)\n",
        "  for m in range(1, n):\n",
        "    for j in range(m):\n",
        "      X[m] = X[m] - proj(V[m], X[j])\n",
        "  for m in range(n):\n",
        "    X[m] = normalize(X[m])\n",
        "  return X"
      ],
      "execution_count": 22,
      "outputs": []
    },
    {
      "cell_type": "markdown",
      "metadata": {
        "id": "KPnr0VmVKLm6"
      },
      "source": [
        "Check your function:"
      ]
    },
    {
      "cell_type": "code",
      "metadata": {
        "id": "ZxqZCZcAKK-6",
        "colab": {
          "base_uri": "https://localhost:8080/"
        },
        "outputId": "31826de7-9ad5-406c-d58f-3107e39a16a0"
      },
      "source": [
        "L=[np.array([1,3,2,4,0]),np.array([-1,0,4,5,0]),np.array([0,2,2,2,2]),np.array([3,2,3,2,0])]\n",
        "A=gram_schmidt(L)\n",
        "print(orth_set_check(A))\n",
        "A"
      ],
      "execution_count": 43,
      "outputs": [
        {
          "output_type": "stream",
          "name": "stdout",
          "text": [
            "True\n"
          ]
        },
        {
          "output_type": "execute_result",
          "data": {
            "text/plain": [
              "[array([0.18257419, 0.54772256, 0.36514837, 0.73029674, 0.        ]),\n",
              " array([-0.45161355, -0.64176663,  0.52292096,  0.33276788,  0.        ]),\n",
              " array([-0.18160984,  0.21187815,  0.25728061, -0.24214646,  0.89291506]),\n",
              " array([ 0.72782534, -0.2079501 ,  0.57186277, -0.31192515, -0.05198752])]"
            ]
          },
          "metadata": {},
          "execution_count": 43
        }
      ]
    },
    {
      "cell_type": "markdown",
      "metadata": {
        "id": "YBi6okJ7GxM_"
      },
      "source": [
        "**Problem 6**"
      ]
    },
    {
      "cell_type": "code",
      "metadata": {
        "id": "ZjGODpWPGPEF"
      },
      "source": [
        "# This function accepts a matrix A as a 2D NumPy Array, and returns two new matrices Q and R.\n",
        "\n",
        "def QR_decomposition(A):\n",
        "  A_vect = [n for n in np.transpose(A)]\n",
        "  Q = np.transpose(gram_schmidt(A_vect))\n",
        "  R = np.dot(np.transpose(Q), A)\n",
        "  return Q, R"
      ],
      "execution_count": 49,
      "outputs": []
    },
    {
      "cell_type": "markdown",
      "metadata": {
        "id": "QikSCBkcbKlG"
      },
      "source": [
        "Check your function:"
      ]
    },
    {
      "cell_type": "code",
      "metadata": {
        "id": "7JLiey4RaMeV",
        "colab": {
          "base_uri": "https://localhost:8080/"
        },
        "outputId": "074c0b24-2c28-437e-b6da-4f3b725714bb"
      },
      "source": [
        "A=np.transpose(np.array([[1,3,2,4,0],[-1,0,4,5,0],[0,2,2,2,2],[3,2,3,2,0]]))\n",
        "np.shape(A)[1]\n",
        "Q,R=QR_decomposition(A)\n",
        "\n",
        "print(Q)\n",
        "print(R)"
      ],
      "execution_count": 50,
      "outputs": [
        {
          "output_type": "stream",
          "name": "stdout",
          "text": [
            "[[ 0.18257419 -0.45161355 -0.18160984  0.72782534]\n",
            " [ 0.54772256 -0.64176663  0.21187815 -0.2079501 ]\n",
            " [ 0.36514837  0.52292096  0.25728061  0.57186277]\n",
            " [ 0.73029674  0.33276788 -0.24214646 -0.31192515]\n",
            " [ 0.          0.          0.89291506 -0.05198752]]\n",
            "[[ 5.47722558e+00  4.92950302e+00  3.28633535e+00  4.19920627e+00]\n",
            " [ 0.00000000e+00  4.20713679e+00  4.27844420e-01 -4.04075285e-01]\n",
            " [ 3.33066907e-16  3.05311332e-16  2.23985472e+00  1.66475688e-01]\n",
            " [-4.44089210e-16 -9.43689571e-16 -5.41233725e-16  2.85931385e+00]]\n"
          ]
        }
      ]
    },
    {
      "cell_type": "markdown",
      "metadata": {
        "id": "lK4oy4bJnQkB"
      },
      "source": [
        "We can check to see if QR=A, after rounding with the following command:"
      ]
    },
    {
      "cell_type": "code",
      "metadata": {
        "id": "t0a1UWLryJIW",
        "colab": {
          "base_uri": "https://localhost:8080/"
        },
        "outputId": "b3d3e684-f2bb-4ca2-fea3-b60a1a63611f"
      },
      "source": [
        "np.round(np.matmul(Q,R))"
      ],
      "execution_count": 51,
      "outputs": [
        {
          "output_type": "execute_result",
          "data": {
            "text/plain": [
              "array([[ 1., -1., -0.,  3.],\n",
              "       [ 3., -0.,  2.,  2.],\n",
              "       [ 2.,  4.,  2.,  3.],\n",
              "       [ 4.,  5.,  2.,  2.],\n",
              "       [ 0.,  0.,  2.,  0.]])"
            ]
          },
          "metadata": {},
          "execution_count": 51
        }
      ]
    },
    {
      "cell_type": "markdown",
      "metadata": {
        "id": "ICFGGjWMT8Pn"
      },
      "source": [
        "**Problem 7**"
      ]
    },
    {
      "cell_type": "code",
      "metadata": {
        "id": "C9Urk4KDT-xX"
      },
      "source": [
        "# This Function was created in Lab 5.  It accepts an upper triangular square matrix U and a vector b, solves Ux=b for x.  You may use it in the function QR_solver.\n",
        "\n",
        "def back_substitution(U,b):\n",
        "  n=len(b)\n",
        "  x=np.array([0.0 for i in range(n)])\n",
        "  for i in range(n-1,-1, -1):\n",
        "    r=(b[i]-sum([x[j]*U[i][j] for j in range(i+1,n)]))/U[i][i]\n",
        "    x[i]=r\n",
        "  return x"
      ],
      "execution_count": 52,
      "outputs": []
    },
    {
      "cell_type": "code",
      "metadata": {
        "id": "b2EyOzYIiolo"
      },
      "source": [
        "# This function accepts an invertible matrix A and a vector b, solves Ax=b for x.\n",
        "\n",
        "def QR_solver(A,b):\n",
        "  Q, R = QR_decomposition(A)\n",
        "  B = np.matmul(np.transpose(Q), b)\n",
        "  return back_substitution(R, B)"
      ],
      "execution_count": 53,
      "outputs": []
    },
    {
      "cell_type": "code",
      "metadata": {
        "id": "KpeZpOYCylth",
        "colab": {
          "base_uri": "https://localhost:8080/"
        },
        "outputId": "af87c068-b6a4-4b36-f397-4752b07d4963"
      },
      "source": [
        "A=np.array([[3,1,-2],[1.5,2,-5],[2,-4,1]])\n",
        "b=np.array([1.1,3,-2])\n",
        "QR_solver(A,b)"
      ],
      "execution_count": 54,
      "outputs": [
        {
          "output_type": "execute_result",
          "data": {
            "text/plain": [
              "array([-0.07032967,  0.34395604, -0.48351648])"
            ]
          },
          "metadata": {},
          "execution_count": 54
        }
      ]
    },
    {
      "cell_type": "markdown",
      "metadata": {
        "id": "V1PhGUHCQHtV"
      },
      "source": [
        "**STOP!  BEFORE YOU SUBMIT THIS LAB:**  Go to the \"Runtime\" menu at the top of this page, and select \"Restart and run all\".  If any of the cells produce error messages, you will either need to fix the error(s) or delete the code that is causing the error(s).  Then use \"Restart and run all\" again to see if there are any new errors.  Repeat this until no new error messages show up.  "
      ]
    },
    {
      "cell_type": "markdown",
      "metadata": {
        "id": "DK7QUGzLQLEe"
      },
      "source": [
        "**You are not ready to submit until you are able to select \"Restart and run all\" without any new error messages showing up.  Your code will not be able to be graded if there are any error messages.**"
      ]
    },
    {
      "cell_type": "markdown",
      "metadata": {
        "id": "3hlDiWU6BF2X"
      },
      "source": [
        "To submit your lab for grading you must first download it to your compute as .py file. In the \"File\" menu select \"Download .py\". The resulting file can then be uploaded to [gradescope.com](https://gradescope.com) for grading."
      ]
    }
  ]
}