{
  "nbformat": 4,
  "nbformat_minor": 0,
  "metadata": {
    "colab": {
      "provenance": [],
      "include_colab_link": true
    },
    "kernelspec": {
      "name": "python3",
      "display_name": "Python 3"
    }
  },
  "cells": [
    {
      "cell_type": "markdown",
      "metadata": {
        "id": "view-in-github",
        "colab_type": "text"
      },
      "source": [
        "<a href=\"https://colab.research.google.com/github/seventhtuesday/CS215/blob/main/Copy_of_Iterative_eigenvalues.ipynb\" target=\"_parent\"><img src=\"https://colab.research.google.com/assets/colab-badge.svg\" alt=\"Open In Colab\"/></a>"
      ]
    },
    {
      "cell_type": "markdown",
      "metadata": {
        "id": "qEJhOZ51lG2W"
      },
      "source": [
        "#**Lab 9 - Iterative eigenvalues and Markov chains**"
      ]
    },
    {
      "cell_type": "markdown",
      "metadata": {
        "id": "y0oQ0MWSlwfG"
      },
      "source": [
        "Enter your code in the spaces provided. Do not change any of the variable names or function names that are already provided for you. In places where we specify the name of the return value, make sure that your code produces the a value with the correct name."
      ]
    },
    {
      "cell_type": "code",
      "metadata": {
        "id": "-rYZn3kyGXYe"
      },
      "source": [
        "# Do not edit this cell.\n",
        "\n",
        "LabID=\"Lab9\"\n",
        "\n",
        "try:\n",
        "  from graderHelp import ISGRADEPLOT\n",
        "except ImportError:\n",
        "  ISGRADEPLOT = True"
      ],
      "execution_count": 15,
      "outputs": []
    },
    {
      "cell_type": "markdown",
      "metadata": {
        "id": "duxZxqozGc15"
      },
      "source": [
        "**Enter your name, section number, and BYU NetID**"
      ]
    },
    {
      "cell_type": "code",
      "metadata": {
        "id": "BuU-yivAGhCc"
      },
      "source": [
        "# Enter your first and last names in between the quotation marks.\n",
        "\n",
        "first_name=\"Trent\"\n",
        "\n",
        "last_name=\"Ence\"\n",
        "\n",
        "# Enter your Math 215 section number in between the quotation marks.\n",
        "\n",
        "section_number=\"001\"\n",
        "\n",
        "# Enter your BYU NetID in between the quotation marks.  NOT YOUR BYU ID NUMBER!\n",
        "\n",
        "BYUNetID=\"trence13\""
      ],
      "execution_count": 16,
      "outputs": []
    },
    {
      "cell_type": "markdown",
      "metadata": {
        "id": "6O8kWEYHoO6U"
      },
      "source": [
        "**Import NumPy**"
      ]
    },
    {
      "cell_type": "code",
      "metadata": {
        "id": "qCiA9VT9oQ9T"
      },
      "source": [
        "import numpy as np"
      ],
      "execution_count": 17,
      "outputs": []
    },
    {
      "cell_type": "markdown",
      "metadata": {
        "id": "O_rLaE7jKxoH"
      },
      "source": [
        "**Problem 1**"
      ]
    },
    {
      "cell_type": "code",
      "metadata": {
        "id": "dzudpi4_l8-8"
      },
      "source": [
        "# This function approximates the dominant eigenvector of our matrix A.\n",
        "A = np.array([[1,1],[2,0]])\n",
        "\n",
        "def evect_approx1(x_0,k):\n",
        "  for n in range(k):\n",
        "    x_0 = np.matmul(A, x_0)\n",
        "  return x_0"
      ],
      "execution_count": 18,
      "outputs": []
    },
    {
      "cell_type": "markdown",
      "metadata": {
        "id": "_jL7OuIYLa4Y"
      },
      "source": [
        "**Problem 2**"
      ]
    },
    {
      "cell_type": "code",
      "metadata": {
        "id": "iKwv9UTP2wVY"
      },
      "source": [
        "# This function approximates the dominant eigenvalue of our matrix A.\n",
        "\n",
        "def eval_approx1(x_0,k):\n",
        "  x_k = evect_approx1(x_0, k)\n",
        "  x_k1 = evect_approx1(x_0, k+1)\n",
        "  return x_k1[0] / x_k[0]"
      ],
      "execution_count": 19,
      "outputs": []
    },
    {
      "cell_type": "markdown",
      "metadata": {
        "id": "d5ifaZmSMHDw"
      },
      "source": [
        "**Problem 3**"
      ]
    },
    {
      "cell_type": "code",
      "metadata": {
        "id": "s0DwJTH32wZD"
      },
      "source": [
        "# This function approximates the dominant eigenvalue and eigenvector of our matrix A using the normalized iterative process.\n",
        "\n",
        "def norm_evect_approx1(x_0,k):\n",
        "  for n in range(k):\n",
        "    y = np.matmul(A, x_0)\n",
        "    z = y[0] / x_0[0]\n",
        "    x_0 = y / np.linalg.norm(y)\n",
        "  return x_0, z"
      ],
      "execution_count": 20,
      "outputs": []
    },
    {
      "cell_type": "markdown",
      "metadata": {
        "id": "6jMH7PXwMcuy"
      },
      "source": [
        "**Problem 4**"
      ]
    },
    {
      "cell_type": "code",
      "metadata": {
        "id": "IEx679YY2wb6"
      },
      "source": [
        "# This function approximates the dominant eigenvalue and eigenvector of an arbitrary matrix using the process described in Problem 4.\n",
        "\n",
        "def norm_approx_gen(M,x_0,k):\n",
        "  for n in range(k):\n",
        "    y = np.matmul(M, x_0)\n",
        "    z = y[0] / x_0[0]\n",
        "    x_0 = y / np.max(np.abs(y))\n",
        "  return x_0, z"
      ],
      "execution_count": 21,
      "outputs": []
    },
    {
      "cell_type": "markdown",
      "metadata": {
        "id": "kb9FLrTTM0sj"
      },
      "source": [
        "**Problem 5**"
      ]
    },
    {
      "cell_type": "code",
      "metadata": {
        "id": "szmSRQQi2wes"
      },
      "source": [
        "# This function approximates the dominant eigenvalue and eigenvector of an arbitrary matrix using the Rayleigh quotiend as described in Problem 5.\n",
        "\n",
        "def ray_quotient(M,x_0,k):\n",
        "  x = norm_approx_gen(M, x_0, k)[0]\n",
        "  y = np.dot(np.matmul(M, x), x)\n",
        "  z = np.dot(x, x)\n",
        "  return y / z"
      ],
      "execution_count": 22,
      "outputs": []
    },
    {
      "cell_type": "markdown",
      "metadata": {
        "id": "5WB-yTRsNKib"
      },
      "source": [
        "**Problem 6**"
      ]
    },
    {
      "cell_type": "code",
      "metadata": {
        "id": "MmdpSsYQ2whe"
      },
      "source": [
        "# Replace all of the 0 values with the vectors requested in Problem 6.\n",
        "\n",
        "x_vect_3=norm_approx_gen(np.array([[3, 2, -2], [-1, 1, 4], [3, 2, -5]]), np.array([1, 1, 1]), 3)[0]\n",
        "\n",
        "x_vect_4=norm_approx_gen(np.array([[3, 2, -2], [-1, 1, 4], [3, 2, -5]]), np.array([1, 1, 1]), 4)[0]"
      ],
      "execution_count": 23,
      "outputs": []
    },
    {
      "cell_type": "markdown",
      "metadata": {
        "id": "1AoEo5z6Ne0z"
      },
      "source": [
        "**Problem 7**"
      ]
    },
    {
      "cell_type": "code",
      "metadata": {
        "id": "d58LBX-n2wkf"
      },
      "source": [
        "# This function returns the number of subscribers to the different streaming services after month k.\n",
        "P = np.array([[0.7,0.2],[0.3, 0.8]])\n",
        "\n",
        "def subscriber_vals(x_0,k):\n",
        "  for n in range(k):\n",
        "    x_0 = np.matmul(P, x_0)\n",
        "  return x_0"
      ],
      "execution_count": 24,
      "outputs": []
    },
    {
      "cell_type": "markdown",
      "metadata": {
        "id": "5-V1WD9UNmZl"
      },
      "source": [
        "**Problem 8**"
      ]
    },
    {
      "cell_type": "code",
      "metadata": {
        "id": "6GA_8AAF2wnY"
      },
      "source": [
        "# Replace all of the 0 values with the value requested in Problem 8.\n",
        "\n",
        "netflix_subs6=subscriber_vals(np.array([0.6, 0.4]), 6)[1]"
      ],
      "execution_count": 25,
      "outputs": []
    },
    {
      "cell_type": "markdown",
      "metadata": {
        "id": "8LFlkszMN4nq"
      },
      "source": [
        "**Problem 9**"
      ]
    },
    {
      "cell_type": "code",
      "metadata": {
        "id": "Zy6SewX02wqp"
      },
      "source": [
        "# Replace all of the 0 values with the matrix/vector/value requested in Problem 9.\n",
        "\n",
        "trans_matrix=np.array([[0.8, 0.5, 0.3, 0.2], [0.05, 0.2, 0.1, 0.1], [0.1, 0.1, 0.3, 0.1], [0.05, 0.2, 0.3, 0.6]])\n"
      ],
      "execution_count": 26,
      "outputs": []
    },
    {
      "cell_type": "markdown",
      "metadata": {
        "id": "bAO57Q_PGt-R"
      },
      "source": [
        "**STOP!  BEFORE YOU SUBMIT THIS LAB:**  Go to the \"Runtime\" menu at the top of this page, and select \"Restart and run all\".  If any of the cells produce error messages, you will either need to fix the error(s) or delete the code that is causing the error(s).  Then use \"Restart and run all\" again to see if there are any new errors.  Repeat this until no new error messages show up.   "
      ]
    },
    {
      "cell_type": "markdown",
      "metadata": {
        "id": "CG2Gju8CGxZU"
      },
      "source": [
        "**You are not ready to submit until you are able to select \"Restart and run all\" without any new error messages showing up.  Your code will not be able to be graded if there are any error messages.**"
      ]
    },
    {
      "cell_type": "markdown",
      "metadata": {
        "id": "i7JEWV-dm6QR"
      },
      "source": [
        "To submit your lab for grading you must first download it to your compute as .py file. In the \"File\" menu select \"Download .py\". The resulting file can then be uploaded to [gradescope.com](https://gradescope.com) for grading."
      ]
    }
  ]
}