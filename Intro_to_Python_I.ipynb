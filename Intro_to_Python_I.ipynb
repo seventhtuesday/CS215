{
  "nbformat": 4,
  "nbformat_minor": 0,
  "metadata": {
    "colab": {
      "provenance": [],
      "include_colab_link": true
    },
    "kernelspec": {
      "name": "python3",
      "display_name": "Python 3"
    }
  },
  "cells": [
    {
      "cell_type": "markdown",
      "metadata": {
        "id": "view-in-github",
        "colab_type": "text"
      },
      "source": [
        "<a href=\"https://colab.research.google.com/github/seventhtuesday/CS215/blob/main/Intro_to_Python_I.ipynb\" target=\"_parent\"><img src=\"https://colab.research.google.com/assets/colab-badge.svg\" alt=\"Open In Colab\"/></a>"
      ]
    },
    {
      "cell_type": "markdown",
      "metadata": {
        "id": "685r5AWPa9Xe"
      },
      "source": [
        "# **Lab 1 - Introduction to Python programming I**"
      ]
    },
    {
      "cell_type": "markdown",
      "metadata": {
        "id": "V-qYB1txmmzK"
      },
      "source": [
        "Enter your code in the spaces provided.  Do not change any of the variable names or function names that are already provided for you.  In places where we specify the name of the return value, make sure that your code produces the a value with the correct name."
      ]
    },
    {
      "cell_type": "code",
      "metadata": {
        "id": "2Jh6GIwanXmY"
      },
      "source": [
        "# Do not edit this cell.\n",
        "\n",
        "LabID=\"Lab1\"\n",
        "\n",
        "try:\n",
        "  from graderHelp import ISGRADEPLOT\n",
        "except ImportError:\n",
        "  ISGRADEPLOT = True"
      ],
      "execution_count": 1,
      "outputs": []
    },
    {
      "cell_type": "markdown",
      "metadata": {
        "id": "QxyApY1lbIyA"
      },
      "source": [
        "**Enter your name, section number, and BYU NetID**"
      ]
    },
    {
      "cell_type": "code",
      "metadata": {
        "id": "Y4Ga6wzLbG-K"
      },
      "source": [
        "# Enter your first and last names in between the quotation marks.\n",
        "\n",
        "first_name = \"Trent\"\n",
        "\n",
        "last_name = \"Ence\"\n",
        "\n",
        "# Enter your Math 215 section number in between the quotation marks.\n",
        "\n",
        "section_number = \"001\"\n",
        "\n",
        "# Enter your BYU NetID in between the quotation marks.  NOT YOUR BYU ID NUMBER!\n",
        "\n",
        "BYUNetID = \"trence13\""
      ],
      "execution_count": 2,
      "outputs": []
    },
    {
      "cell_type": "markdown",
      "metadata": {
        "id": "NCF4YDbeblKI"
      },
      "source": [
        "**Problem 1**"
      ]
    },
    {
      "cell_type": "code",
      "metadata": {
        "id": "ZJJu3xyWb2OG"
      },
      "source": [
        "my_first_var = (118 + 11 * 2) / (9 - 2)  # Replace the value of 0 with the required expression from Problem 1."
      ],
      "execution_count": 3,
      "outputs": []
    },
    {
      "cell_type": "markdown",
      "metadata": {
        "id": "g3Hq1OYZfq5B"
      },
      "source": [
        "**Problem 2**"
      ]
    },
    {
      "cell_type": "code",
      "metadata": {
        "id": "mqfH8cBsfs1e"
      },
      "source": [
        "def arithmetic2(i):\n",
        "  return ((i + 2) * 3) - 5  # Put your return value here.  Your shouldn't need to add any more lines of code to this function."
      ],
      "execution_count": 4,
      "outputs": []
    },
    {
      "cell_type": "markdown",
      "metadata": {
        "id": "qrKdBbfFgpOU"
      },
      "source": [
        "**Problem 3**"
      ]
    },
    {
      "cell_type": "code",
      "metadata": {
        "id": "84RmxbZmgTX-"
      },
      "source": [
        "def triple(y):\n",
        "  return 3 * y  # Put your return value here."
      ],
      "execution_count": 5,
      "outputs": []
    },
    {
      "cell_type": "code",
      "metadata": {
        "id": "_WQe_9NZg-Q3"
      },
      "source": [
        "def avg(x,y):\n",
        "  return (x + y) / 2  # Put your return value here."
      ],
      "execution_count": 6,
      "outputs": []
    },
    {
      "cell_type": "code",
      "metadata": {
        "id": "-DoJnLekhEgD"
      },
      "source": [
        "def combine(x,y):\n",
        "  # Put your code here.  Remember that this function should call both of the functions triple(y) and avg(x,y) from above.\n",
        "  return avg(x,triple(y))  # Put your return value here."
      ],
      "execution_count": 7,
      "outputs": []
    },
    {
      "cell_type": "markdown",
      "metadata": {
        "id": "vAPEAMw_iGlF"
      },
      "source": [
        "**Problem 4**"
      ]
    },
    {
      "cell_type": "code",
      "metadata": {
        "id": "GSJqyHzriHyM"
      },
      "source": [
        "def first(c: list):\n",
        "  # Put your code here.\n",
        "  return c[0] # Put your return value here."
      ],
      "execution_count": 8,
      "outputs": []
    },
    {
      "cell_type": "code",
      "metadata": {
        "id": "qUfk0PngiQ0E"
      },
      "source": [
        "def first_last(c: list):\n",
        "  # Put your code here.\n",
        "  return first(c), c[-1] # Put your return values here.  Remember a function can return two values (you will format your return statement as \"return value1, value2\")."
      ],
      "execution_count": 9,
      "outputs": []
    },
    {
      "cell_type": "code",
      "metadata": {
        "id": "LdadxnmCkG8w"
      },
      "source": [
        "def middle(c: list):\n",
        "  del c[0]\n",
        "  del c[-1]   # Put your code here.\n",
        "  return c  # Put your return value here."
      ],
      "execution_count": 10,
      "outputs": []
    },
    {
      "cell_type": "markdown",
      "metadata": {
        "id": "H1pF-iahkVSF"
      },
      "source": [
        "**Problem 5**"
      ]
    },
    {
      "cell_type": "code",
      "metadata": {
        "id": "8nJnVRG5kTr8"
      },
      "source": [
        "def swap(c: list):\n",
        "  new_list = c.copy() # This creates a copy of the list c, which is called new_list.  Your function should work with this list instead of the list c which is passed to the function.\n",
        "  new_list[0] = c[-1]\n",
        "  new_list[-1] = c[0] # Put your code here.\n",
        "  return new_list # Put your return value here."
      ],
      "execution_count": 11,
      "outputs": []
    },
    {
      "cell_type": "markdown",
      "metadata": {
        "id": "re7RuJoFlzOF"
      },
      "source": [
        "**Problem 6**"
      ]
    },
    {
      "cell_type": "code",
      "metadata": {
        "id": "yEVLhVbjkbDo"
      },
      "source": [
        "def absolute_value(x):\n",
        "  if(x < 0):\n",
        "    return -x # Put your code here.\n",
        "  else:\n",
        "    return x  # Put your return value here."
      ],
      "execution_count": 12,
      "outputs": []
    },
    {
      "cell_type": "markdown",
      "metadata": {
        "id": "EipWzzRll93V"
      },
      "source": [
        "**Problem 7**"
      ]
    },
    {
      "cell_type": "code",
      "metadata": {
        "id": "WkBLvjjCl80O"
      },
      "source": [
        "def indicator(lower,upper,n):\n",
        "  if(lower < n and n < upper):\n",
        "    return 1  # Put your code here.\n",
        "  else:\n",
        "    return 0  # Put your return value here."
      ],
      "execution_count": 13,
      "outputs": []
    },
    {
      "cell_type": "markdown",
      "metadata": {
        "id": "RWju9gIhmQ5F"
      },
      "source": [
        "**Problem 8**"
      ]
    },
    {
      "cell_type": "code",
      "metadata": {
        "id": "SPpsjK27mQKJ"
      },
      "source": [
        "def trunc_max(x,y):\n",
        "  if(x > y and x > 0):\n",
        "    return x  # Put your code here.\n",
        "  elif(y > 0):\n",
        "    return y\n",
        "  else:\n",
        "    return 0  # Put your return value here."
      ],
      "execution_count": 14,
      "outputs": []
    },
    {
      "cell_type": "markdown",
      "metadata": {
        "id": "x7EZGaY0Ufim"
      },
      "source": [
        "**STOP!  BEFORE YOU SUBMIT THIS LAB:**  Go to the \"Runtime\" menu at the top of this page, and select \"Restart and run all\".  If any of the cells produce error messages, you will either need to fix the error(s) or delete the code that is causing the error(s).  Then use \"Restart and run all\" again to see if there are any new errors.  Repeat this until no new error messages show up.  "
      ]
    },
    {
      "cell_type": "markdown",
      "metadata": {
        "id": "Wjeko4xfUla-"
      },
      "source": [
        "**You are not ready to submit until you are able to select \"Restart and run all\" without any new error messages showing up.  Your code will not be able to be graded if there are any error messages.**"
      ]
    },
    {
      "cell_type": "markdown",
      "metadata": {
        "id": "BiDWiRIrRt5Z"
      },
      "source": [
        "To submit your lab for grading you must first download it to your compute as .py file. In the \"File\" menu select \"Download .py\". The resulting file can then be uploaded to http://www.math.byu.edu:30000 for grading."
      ]
    }
  ]
}